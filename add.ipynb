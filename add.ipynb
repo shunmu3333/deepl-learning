{
 "cells": [
  {
   "cell_type": "code",
   "execution_count": null,
   "id": "25db42b2",
   "metadata": {
    "vscode": {
     "languageId": "plaintext"
    }
   },
   "outputs": [],
   "source": [
    "import numpy as np\n",
    "\n",
    "X=np.array([[0,0],[0,1],[1,0],[1,1]])\n",
    "y=np.array([0,0,0,1])\n",
    "\n",
    "weights =np.zeros(2)\n",
    "bias = 0\n",
    "lr = 0.1\n",
    "epochs = 10\n",
    "def step(x):\n",
    "  return 1 if x>=0 else 0\n",
    "\n",
    "for epoch in range(epochs):\n",
    "  for i in range (len(X)):\n",
    "    z = np.dot(X[i],weights )+bias\n",
    "    pred = step(z)\n",
    "    error= y[i]- pred\n",
    "    weights +=lr*error*X[i]\n",
    "    bias +=lr*error\n",
    "\n",
    "print(\"Weights \",weights)\n",
    "print(\"bias\" ,bias)\n",
    "\n",
    "for i in range (len(X)):\n",
    "  z= np.dot(X[i],weights)+bias\n",
    "  pred=step(z)\n",
    "  print(f\"Input {X[i]} => Output: {pred}\")\n",
    "\n"
   ]
  }
 ],
 "metadata": {
  "language_info": {
   "name": "python"
  }
 },
 "nbformat": 4,
 "nbformat_minor": 5
}
